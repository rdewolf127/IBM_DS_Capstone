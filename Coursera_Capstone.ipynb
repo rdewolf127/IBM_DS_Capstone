{
    "cells": [
        {
            "cell_type": "markdown",
            "metadata": {},
            "source": "<H1>Coursera Capstone</H1>\n<p>This notebook will be used for the IBM Applied "
        },
        {
            "cell_type": "code",
            "execution_count": 16,
            "metadata": {},
            "outputs": [],
            "source": "import pandas as pd\nimport numpy as np"
        },
        {
            "cell_type": "code",
            "execution_count": 17,
            "metadata": {},
            "outputs": [
                {
                    "name": "stdout",
                    "output_type": "stream",
                    "text": "Hello Capstone Project Course!\n"
                }
            ],
            "source": "print('Hello Capstone Project Course!')"
        },
        {
            "cell_type": "markdown",
            "metadata": {},
            "source": "<h2>Begin EDA</h2>"
        },
        {
            "cell_type": "code",
            "execution_count": 18,
            "metadata": {},
            "outputs": [
                {
                    "name": "stderr",
                    "output_type": "stream",
                    "text": "/opt/conda/envs/Python36/lib/python3.6/site-packages/IPython/core/interactiveshell.py:3020: DtypeWarning: Columns (33) have mixed types. Specify dtype option on import or set low_memory=False.\n  interactivity=interactivity, compiler=compiler, result=result)\n"
                },
                {
                    "name": "stdout",
                    "output_type": "stream",
                    "text": "<class 'pandas.core.frame.DataFrame'>\nRangeIndex: 194673 entries, 0 to 194672\nData columns (total 38 columns):\nSEVERITYCODE      194673 non-null int64\nX                 189339 non-null float64\nY                 189339 non-null float64\nOBJECTID          194673 non-null int64\nINCKEY            194673 non-null int64\nCOLDETKEY         194673 non-null int64\nREPORTNO          194673 non-null object\nSTATUS            194673 non-null object\nADDRTYPE          192747 non-null object\nINTKEY            65070 non-null float64\nLOCATION          191996 non-null object\nEXCEPTRSNCODE     84811 non-null object\nEXCEPTRSNDESC     5638 non-null object\nSEVERITYCODE.1    194673 non-null int64\nSEVERITYDESC      194673 non-null object\nCOLLISIONTYPE     189769 non-null object\nPERSONCOUNT       194673 non-null int64\nPEDCOUNT          194673 non-null int64\nPEDCYLCOUNT       194673 non-null int64\nVEHCOUNT          194673 non-null int64\nINCDATE           194673 non-null object\nINCDTTM           194673 non-null object\nJUNCTIONTYPE      188344 non-null object\nSDOT_COLCODE      194673 non-null int64\nSDOT_COLDESC      194673 non-null object\nINATTENTIONIND    29805 non-null object\nUNDERINFL         189789 non-null object\nWEATHER           189592 non-null object\nROADCOND          189661 non-null object\nLIGHTCOND         189503 non-null object\nPEDROWNOTGRNT     4667 non-null object\nSDOTCOLNUM        114936 non-null float64\nSPEEDING          9333 non-null object\nST_COLCODE        194655 non-null object\nST_COLDESC        189769 non-null object\nSEGLANEKEY        194673 non-null int64\nCROSSWALKKEY      194673 non-null int64\nHITPARKEDCAR      194673 non-null object\ndtypes: float64(4), int64(12), object(22)\nmemory usage: 56.4+ MB\n"
                }
            ],
            "source": "df=pd.read_csv('https://s3.us.cloud-object-storage.appdomain.cloud/cf-courses-data/CognitiveClass/DP0701EN/version-2/Data-Collisions.csv')\ndf.info()"
        },
        {
            "cell_type": "code",
            "execution_count": 19,
            "metadata": {},
            "outputs": [
                {
                    "name": "stdout",
                    "output_type": "stream",
                    "text": "SUMMARY DESCRIPTIVE STATS FOR NUMERICAL COLUMNS:\n        SEVERITYCODE              X              Y       OBJECTID  \\\ncount  194673.000000  189339.000000  189339.000000  194673.000000   \nmean        1.298901    -122.330518      47.619543  108479.364930   \nstd         0.457778       0.029976       0.056157   62649.722558   \nmin         1.000000    -122.419091      47.495573       1.000000   \n25%         1.000000    -122.348673      47.575956   54267.000000   \n50%         1.000000    -122.330224      47.615369  106912.000000   \n75%         2.000000    -122.311937      47.663664  162272.000000   \nmax         2.000000    -122.238949      47.734142  219547.000000   \n\n              INCKEY      COLDETKEY         INTKEY  SEVERITYCODE.1  \\\ncount  194673.000000  194673.000000   65070.000000   194673.000000   \nmean   141091.456350  141298.811381   37558.450576        1.298901   \nstd     86634.402737   86986.542110   51745.990273        0.457778   \nmin      1001.000000    1001.000000   23807.000000        1.000000   \n25%     70383.000000   70383.000000   28667.000000        1.000000   \n50%    123363.000000  123363.000000   29973.000000        1.000000   \n75%    203319.000000  203459.000000   33973.000000        2.000000   \nmax    331454.000000  332954.000000  757580.000000        2.000000   \n\n         PERSONCOUNT       PEDCOUNT    PEDCYLCOUNT       VEHCOUNT  \\\ncount  194673.000000  194673.000000  194673.000000  194673.000000   \nmean        2.444427       0.037139       0.028391       1.920780   \nstd         1.345929       0.198150       0.167413       0.631047   \nmin         0.000000       0.000000       0.000000       0.000000   \n25%         2.000000       0.000000       0.000000       2.000000   \n50%         2.000000       0.000000       0.000000       2.000000   \n75%         3.000000       0.000000       0.000000       2.000000   \nmax        81.000000       6.000000       2.000000      12.000000   \n\n        SDOT_COLCODE    SDOTCOLNUM     SEGLANEKEY  CROSSWALKKEY  \ncount  194673.000000  1.149360e+05  194673.000000  1.946730e+05  \nmean       13.867768  7.972521e+06     269.401114  9.782452e+03  \nstd         6.868755  2.553533e+06    3315.776055  7.226926e+04  \nmin         0.000000  1.007024e+06       0.000000  0.000000e+00  \n25%        11.000000  6.040015e+06       0.000000  0.000000e+00  \n50%        13.000000  8.023022e+06       0.000000  0.000000e+00  \n75%        14.000000  1.015501e+07       0.000000  0.000000e+00  \nmax        69.000000  1.307202e+07  525241.000000  5.239700e+06  \n\n"
                }
            ],
            "source": "result = df.describe()\nprint(\"SUMMARY DESCRIPTIVE STATS FOR NUMERICAL COLUMNS:\")\nprint(result)\nprint()"
        },
        {
            "cell_type": "code",
            "execution_count": 20,
            "metadata": {},
            "outputs": [
                {
                    "name": "stdout",
                    "output_type": "stream",
                    "text": "FREQUENCY DISTRIBUTION\nMid-Block (not related to intersection)              89800\nAt Intersection (intersection related)               62810\nMid-Block (but intersection related)                 22790\nDriveway Junction                                    10671\nAt Intersection (but not related to intersection)     2098\nName: JUNCTIONTYPE, dtype: int64\n\nFREQUENCY DISTRIBUTION\n11/2/2006    96\n10/3/2008    91\n11/5/2005    83\n12/4/2004    74\n6/1/2006     73\nName: INCDTTM, dtype: int64\n\nFREQUENCY DISTRIBUTION\n2006/11/02 00:00:00+00    96\n2008/10/03 00:00:00+00    92\n2005/05/18 00:00:00+00    84\n2006/01/13 00:00:00+00    83\n2005/11/05 00:00:00+00    83\nName: INCDATE, dtype: int64\n\nFREQUENCY DISTRIBUTION\nParked Car    47987\nAngles        34674\nRear Ended    34090\nOther         23703\nSideswipe     18609\nName: COLLISIONTYPE, dtype: int64\n\nFREQUENCY DISTRIBUTION\nProperty Damage Only Collision    136485\nInjury Collision                   58188\nName: SEVERITYDESC, dtype: int64\n\nFREQUENCY DISTRIBUTION\nNot Enough Information, or Insufficient Location Information    5638\nName: EXCEPTRSNDESC, dtype: int64\n\nFREQUENCY DISTRIBUTION\n       79173\nNEI     5638\nName: EXCEPTRSNCODE, dtype: int64\n\nFREQUENCY DISTRIBUTION\nBATTERY ST TUNNEL NB BETWEEN ALASKAN WY VI NB AND AURORA AVE N    276\nBATTERY ST TUNNEL SB BETWEEN AURORA AVE N AND ALASKAN WY VI SB    271\nN NORTHGATE WAY BETWEEN MERIDIAN AVE N AND CORLISS AVE N          265\nAURORA AVE N BETWEEN N 117TH PL AND N 125TH ST                    254\n6TH AVE AND JAMES ST                                              252\nName: LOCATION, dtype: int64\n\nFREQUENCY DISTRIBUTION\nBlock           126926\nIntersection     65070\nAlley              751\nName: ADDRTYPE, dtype: int64\n\nFREQUENCY DISTRIBUTION\nMatched      189786\nUnmatched      4887\nName: STATUS, dtype: int64\n\nFREQUENCY DISTRIBUTION\n1780512    2\n1782439    2\n1776526    2\nE910107    1\n2829357    1\nName: REPORTNO, dtype: int64\n\nFREQUENCY DISTRIBUTION\nMOTOR VEHICLE STRUCK MOTOR VEHICLE, FRONT END AT ANGLE     85209\nMOTOR VEHICLE STRUCK MOTOR VEHICLE, REAR END               54299\nMOTOR VEHICLE STRUCK MOTOR VEHICLE, LEFT SIDE SIDESWIPE     9928\nNOT ENOUGH INFORMATION / NOT APPLICABLE                     9787\nMOTOR VEHICLE RAN OFF ROAD - HIT FIXED OBJECT               8856\nName: SDOT_COLDESC, dtype: int64\n\nFREQUENCY DISTRIBUTION\nY    29805\nName: INATTENTIONIND, dtype: int64\n\nFREQUENCY DISTRIBUTION\nN    100274\n0     80394\nY      5126\n1      3995\nName: UNDERINFL, dtype: int64\n\nFREQUENCY DISTRIBUTION\nClear       111135\nRaining      33145\nOvercast     27714\nUnknown      15091\nSnowing        907\nName: WEATHER, dtype: int64\n\nFREQUENCY DISTRIBUTION\nDry           124510\nWet            47474\nUnknown        15078\nIce             1209\nSnow/Slush      1004\nName: ROADCOND, dtype: int64\n\nFREQUENCY DISTRIBUTION\nDaylight                   116137\nDark - Street Lights On     48507\nUnknown                     13473\nDusk                         5902\nDawn                         2502\nName: LIGHTCOND, dtype: int64\n\nFREQUENCY DISTRIBUTION\nY    4667\nName: PEDROWNOTGRNT, dtype: int64\n\nFREQUENCY DISTRIBUTION\nY    9333\nName: SPEEDING, dtype: int64\n\nFREQUENCY DISTRIBUTION\n32    27612\n10    23427\n14    16883\n32    16809\n10    11247\nName: ST_COLCODE, dtype: int64\n\nFREQUENCY DISTRIBUTION\nOne parked--one moving                                                 44421\nEntering at angle                                                      34674\nFrom same direction - both going straight - one stopped - rear-end     25771\nFixed object                                                           13554\nFrom same direction - both going straight - both moving - sideswipe    12777\nName: ST_COLDESC, dtype: int64\n\nFREQUENCY DISTRIBUTION\nN    187457\nY      7216\nName: HITPARKEDCAR, dtype: int64\n\nFREQUENCY DISTRIBUTION\n1    136485\n2     58188\nName: SEVERITYCODE, dtype: int64\n\n"
                }
            ],
            "source": "def freq(var):\n    result = df[var].value_counts()\n    print(\"FREQUENCY DISTRIBUTION\")\n    print(result.head())\n    print('')\n    \nfreq('JUNCTIONTYPE')\nfreq('INCDTTM')\nfreq('INCDATE')\nfreq('COLLISIONTYPE')\nfreq('SEVERITYDESC')\nfreq('EXCEPTRSNDESC')\nfreq('EXCEPTRSNCODE')\nfreq('LOCATION')\nfreq('ADDRTYPE')\nfreq('STATUS')\nfreq('REPORTNO')\nfreq('SDOT_COLDESC')\nfreq('INATTENTIONIND')\nfreq('UNDERINFL')\nfreq('WEATHER')\nfreq('ROADCOND')\nfreq('LIGHTCOND')\nfreq('PEDROWNOTGRNT')\nfreq('SPEEDING')\nfreq('ST_COLCODE')\nfreq('ST_COLDESC')\nfreq('HITPARKEDCAR')\nfreq('SEVERITYCODE')"
        },
        {
            "cell_type": "code",
            "execution_count": 21,
            "metadata": {},
            "outputs": [
                {
                    "name": "stdout",
                    "output_type": "stream",
                    "text": "MISSING VALUES (NAN) BY COLUMNS:\n"
                },
                {
                    "data": {
                        "text/plain": "SEVERITYCODE           0\nX                   5334\nY                   5334\nOBJECTID               0\nINCKEY                 0\nCOLDETKEY              0\nREPORTNO               0\nSTATUS                 0\nADDRTYPE            1926\nINTKEY            129603\nLOCATION            2677\nEXCEPTRSNCODE     109862\nEXCEPTRSNDESC     189035\nSEVERITYCODE.1         0\nSEVERITYDESC           0\nCOLLISIONTYPE       4904\nPERSONCOUNT            0\nPEDCOUNT               0\nPEDCYLCOUNT            0\nVEHCOUNT               0\nINCDATE                0\nINCDTTM                0\nJUNCTIONTYPE        6329\nSDOT_COLCODE           0\nSDOT_COLDESC           0\nINATTENTIONIND    164868\nUNDERINFL           4884\nWEATHER             5081\nROADCOND            5012\nLIGHTCOND           5170\nPEDROWNOTGRNT     190006\nSDOTCOLNUM         79737\nSPEEDING          185340\nST_COLCODE            18\nST_COLDESC          4904\nSEGLANEKEY             0\nCROSSWALKKEY           0\nHITPARKEDCAR           0\ndtype: int64"
                    },
                    "execution_count": 21,
                    "metadata": {},
                    "output_type": "execute_result"
                }
            ],
            "source": "result = df.apply(lambda x: sum(x.isnull()), axis=0) \nprint(\"MISSING VALUES (NAN) BY COLUMNS:\")\nresult\n#none of the numeric values have missing rows so no need to do a median fill"
        },
        {
            "cell_type": "code",
            "execution_count": 22,
            "metadata": {},
            "outputs": [
                {
                    "data": {
                        "text/plain": "AURORA AVE N BETWEEN N 117TH PL AND N 125TH ST              120\n6TH AVE AND JAMES ST                                        107\nN NORTHGATE WAY BETWEEN MERIDIAN AVE N AND CORLISS AVE N     94\nRAINIER AVE S BETWEEN S BAYVIEW ST AND S MCCLELLAN ST        94\nAURORA AVE N BETWEEN N 130TH ST AND N 135TH ST               88\nName: LOCATION, dtype: int64"
                    },
                    "execution_count": 22,
                    "metadata": {},
                    "output_type": "execute_result"
                }
            ],
            "source": "df.loc[ df['SEVERITYCODE'] == 2, 'LOCATION'].value_counts().head()"
        },
        {
            "cell_type": "code",
            "execution_count": 23,
            "metadata": {},
            "outputs": [],
            "source": "df = df.drop_duplicates(keep=\"first\")"
        },
        {
            "cell_type": "code",
            "execution_count": 24,
            "metadata": {},
            "outputs": [
                {
                    "data": {
                        "text/plain": "(194673, 38)"
                    },
                    "execution_count": 24,
                    "metadata": {},
                    "output_type": "execute_result"
                }
            ],
            "source": "df.shape\n#no rows dropped"
        },
        {
            "cell_type": "code",
            "execution_count": 28,
            "metadata": {},
            "outputs": [],
            "source": "def missing_fill(var, fill):\n    df[var] = df[var].fillna(fill)    \n    \nmissing_fill('LOCATION', 'LocationUnknown')\nmissing_fill('JUNCTIONTYPE', 'JunctionTypeUnknown')\nmissing_fill('UNDERINFL', 'UnderinflUnknown')\nmissing_fill('WEATHER', 'WeatherUnknown')\nmissing_fill('ROADCOND', 'RoadcondUnknown')\nmissing_fill('LIGHTCOND', 'LightcondUnknown')\nmissing_fill('ST_COLCODE', '99')\nmissing_fill('ST_COLDESC', 'St_coldescUnknown')"
        },
        {
            "cell_type": "code",
            "execution_count": 26,
            "metadata": {},
            "outputs": [],
            "source": "df2 = df.filter(items=['SEVERITYCODE','OBJECTID', 'INCKEY', 'COLDETKEY',\n                               'REPORTNO', 'STATUS',\n                               'SEVERITYDESC','PERSONCOUNT',\n                               'VEHCOUNT', 'INCDATE',\n                               'INCDTTM', 'SDOT_COLCODE',\n                               'SDOT_COLDESC', 'SEGLANKEY',\n                               'CROSSWALKKEY', 'HITPARKEDCAR', 'LOCATION',\n                               'JUNCTIONTYPE', 'UNDERINFL', 'WEATHER',\n                               'ROAD COND'\n                               ])"
        },
        {
            "cell_type": "code",
            "execution_count": 27,
            "metadata": {},
            "outputs": [
                {
                    "data": {
                        "text/plain": "Daylight                    116137\nDark - Street Lights On      48507\nUnknown                      13473\nDusk                          5902\nLightcondUnknown              5170\nDawn                          2502\nDark - No Street Lights       1537\nDark - Street Lights Off      1199\nOther                          235\nDark - Unknown Lighting         11\nName: LIGHTCOND, dtype: int64"
                    },
                    "execution_count": 27,
                    "metadata": {},
                    "output_type": "execute_result"
                }
            ],
            "source": "df['LIGHTCOND'].value_counts()"
        },
        {
            "cell_type": "code",
            "execution_count": null,
            "metadata": {},
            "outputs": [],
            "source": ""
        },
        {
            "cell_type": "code",
            "execution_count": null,
            "metadata": {},
            "outputs": [],
            "source": ""
        },
        {
            "cell_type": "code",
            "execution_count": null,
            "metadata": {},
            "outputs": [],
            "source": ""
        }
    ],
    "metadata": {
        "kernelspec": {
            "display_name": "Python 3.6",
            "language": "python",
            "name": "python3"
        },
        "language_info": {
            "codemirror_mode": {
                "name": "ipython",
                "version": 3
            },
            "file_extension": ".py",
            "mimetype": "text/x-python",
            "name": "python",
            "nbconvert_exporter": "python",
            "pygments_lexer": "ipython3",
            "version": "3.6.9"
        }
    },
    "nbformat": 4,
    "nbformat_minor": 1
}